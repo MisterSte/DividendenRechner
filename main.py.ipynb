{
 "cells": [
  {
   "metadata": {},
   "cell_type": "markdown",
   "source": [
    "# Calculation of projected stock repurchases through reinvestment (retained earnings)\n",
    "### This calculation determines the projected number of new shares purchased through reinvestment of retained earnings and available liquidity."
   ],
   "id": "d693b2540863be4a"
  },
  {
   "metadata": {
    "ExecuteTime": {
     "end_time": "2025-02-27T09:32:25.144848Z",
     "start_time": "2025-02-27T09:32:23.052395Z"
    }
   },
   "cell_type": "code",
   "source": [
    "import matplotlib.pyplot as plt\n",
    "import pandas as pd\n",
    "import openpyxl\n",
    "import numpy as np\n",
    "import math"
   ],
   "id": "dc9796f5addee344",
   "outputs": [],
   "execution_count": 1
  },
  {
   "metadata": {
    "ExecuteTime": {
     "end_time": "2025-02-27T09:32:25.162024Z",
     "start_time": "2025-02-27T09:32:25.147857Z"
    }
   },
   "cell_type": "code",
   "source": [
    "\"\"\"\n",
    "This script calculates the annual investment liquidity based on a given dataset \n",
    "and determines the time horizon in years for financial planning.\n",
    "\n",
    "Steps:\n",
    "1. Load a CSV file containing liquidity data into a pandas DataFrame.\n",
    "2. Display the first few rows of the dataset for inspection.\n",
    "3. Determine the time horizon in years based on the number of columns in the dataset.\n",
    "\"\"\"\n",
    "\n",
    "import pandas as pd\n",
    "\n",
    "# Load the CSV file containing liquidity data, assuming it uses a semicolon as a delimiter.\n",
    "liquidity_df = pd.read_csv('./data/liquidity.csv', delimiter=\";\")\n",
    "\n",
    "# Display the first few rows of the loaded DataFrame to verify the data structure.\n",
    "liquidity_df.head()\n",
    "\n",
    "# Calculate the number of years (time horizon) based on the number of columns in the dataset.\n",
    "years = len(liquidity_df.columns)  \n",
    "\n",
    "# Print the calculated time horizon.\n",
    "print(\"Horizont: \" + str(years))\n"
   ],
   "id": "18dd8bfeb064c193",
   "outputs": [
    {
     "name": "stdout",
     "output_type": "stream",
     "text": [
      "Horizont: 10\n"
     ]
    }
   ],
   "execution_count": 2
  },
  {
   "metadata": {
    "ExecuteTime": {
     "end_time": "2025-02-27T09:32:25.182895Z",
     "start_time": "2025-02-27T09:32:25.164038Z"
    }
   },
   "cell_type": "code",
   "source": [
    "\"\"\"\n",
    "This script processes stock data from an Excel file, initializes an empty list\n",
    "based on the number of stock entries, and prints the number of entries.\n",
    "\n",
    "Steps:\n",
    "1. Load an Excel file containing stock data into a pandas DataFrame.\n",
    "2. Display the first few rows of the dataset for verification.\n",
    "3. Create an empty list with a size equal to the number of rows (entries) in the DataFrame.\n",
    "4. Print the total number of entries in the initialized list.\n",
    "\"\"\"\n",
    "\n",
    "import pandas as pd\n",
    "\n",
    "# Load the Excel file containing stock data into a DataFrame.\n",
    "stock_data_df = pd.read_excel('./data/stock_data.xlsx')\n",
    "\n",
    "# Display the first few rows of the loaded DataFrame to verify the data structure.\n",
    "stock_data_df.head()\n",
    "\n",
    "# Create an empty list with a size equal to the number of rows (entries) in the DataFrame.\n",
    "stock_list = []*len(stock_data_df.axes[0])  # `len(stock_data_df.axes[0])` gives the row count.\n",
    "\n",
    "# Print the total number of entries in the initialized list.\n",
    "print(f\"Number of entries: {len(stock_list)}\")"
   ],
   "id": "f5ccc9ccca28b7ad",
   "outputs": [
    {
     "name": "stdout",
     "output_type": "stream",
     "text": [
      "Number of entries: 0\n"
     ]
    }
   ],
   "execution_count": 3
  },
  {
   "metadata": {
    "ExecuteTime": {
     "end_time": "2025-02-27T09:32:25.189941Z",
     "start_time": "2025-02-27T09:32:25.184904Z"
    }
   },
   "cell_type": "code",
   "source": [
    "class Stock:\n",
    "    \"\"\"\n",
    "    A class representing a stock, encapsulating its attributes such as symbol, stock price, \n",
    "    return rate, order fees, projected balances, opening balance, and share of the portfolio.\n",
    "    \n",
    "    Attributes:\n",
    "    - symbol (str): The stock's ticker symbol.\n",
    "    - stock_price (float): Assumed average stock price.\n",
    "    - r (float): Return rate of the stock.\n",
    "    - g (float): Order fees associated with the stock.\n",
    "    - balance (list): A list representing projected quantities per period starting at t0.\n",
    "    - opening_balance (float): Initial quantity of the stock.\n",
    "    - share (float): Proportional share in the portfolio.\n",
    "    \n",
    "    Methods:\n",
    "    - __init__: Constructor that initializes a Stock object with the given attributes.\n",
    "    \"\"\"\n",
    "    \n",
    "    def __init__(self, symbol: str, stock_price: float, r: float, order_fees: float, balance: list, opening_balance: float, share: float):\n",
    "        \"\"\"\n",
    "        Initialize a Stock object with specified attributes.\n",
    "\n",
    "        Args:\n",
    "        - symbol (str): Stock ticker symbol.\n",
    "        - stock_price (float): Average assumed stock price.\n",
    "        - r (float): Return rate.\n",
    "        - g (float): Order fees.\n",
    "        - balance (list): List of projected quantities per period.\n",
    "        - opening_balance (float): Initial stock quantity.\n",
    "        - share (float): Portfolio share of the stock.\n",
    "        \"\"\"\n",
    "        self.symbol = symbol  # Stock ticker symbol.\n",
    "        self.stock_price = stock_price  # Assumed average stock price.\n",
    "        self.r = r  # Stock return rate.\n",
    "        self.order_fees = order_fees  # Order fees.\n",
    "        self.balance = balance  # List of projected balances per period starting at t0.\n",
    "        self.opening_balance = opening_balance  # Initial stock balance.\n",
    "        self.share = share  # Proportional share in the portfolio.\n",
    "\n",
    "        # Set the initial balance for the first period to the opening balance.\n",
    "        balance[0] = opening_balance\n"
   ],
   "id": "3918e1802de2f31d",
   "outputs": [],
   "execution_count": 4
  },
  {
   "metadata": {
    "ExecuteTime": {
     "end_time": "2025-02-27T09:32:25.200015Z",
     "start_time": "2025-02-27T09:32:25.190949Z"
    }
   },
   "cell_type": "code",
   "source": [
    "import math\n",
    "\n",
    "def calculate_balance(horizon: int, stock_price: float, r: float, order_fees: float, share: float, empty_balance: list):\n",
    "    \"\"\"\n",
    "    Calculates the balance time series for a stock over a specified investment horizon.\n",
    "\n",
    "    Args:\n",
    "    - horizon (int): The investment horizon (number of periods).\n",
    "    - stock_price (float): Assumed average stock price.\n",
    "    - r (float): Return rate of the stock (e.g., dividend yield).\n",
    "    - g (float): Order fees.\n",
    "    - share (float): Share of available liquidity allocated to the stock.\n",
    "    - empty_balance (list): An empty list to hold the balance time series.\n",
    "\n",
    "    Returns:\n",
    "    - list: A list representing the balance of the stock at each period.\n",
    "\n",
    "    Method:\n",
    "    1. Iterates through the given horizon, calculating the balance for each period.\n",
    "    2. Checks whether the net dividend allows for new shares to be purchased.\n",
    "    3. Updates the balance list based on the calculated values.\n",
    "    \"\"\"\n",
    "    # Initialize the balance list with the provided empty list.\n",
    "    balance = empty_balance\n",
    "\n",
    "    # Iterate over the time horizon to calculate balances for each period.\n",
    "    for t in range(horizon - 1):\n",
    "        # Determine if new shares can be purchased with net dividend and liquidity.\n",
    "        variable_balance = math.floor(\n",
    "            ((balance[t] * stock_price * r * 0.7) + liquidity_df.iat[0, t] * share - order_fees) / stock_price\n",
    "        )\n",
    "        \n",
    "        # Ensure variable_balance is non-negative (no negative shares).\n",
    "        if variable_balance < 0:\n",
    "            variable_balance = 0  \n",
    "        \n",
    "        # Update the balance for the next period.\n",
    "        balance[t + 1] = balance[t] + variable_balance\n",
    "    \n",
    "    # Return the complete balance time series.\n",
    "    return balance"
   ],
   "id": "7ea9265809f3543f",
   "outputs": [],
   "execution_count": 5
  },
  {
   "metadata": {
    "ExecuteTime": {
     "end_time": "2025-02-27T09:32:25.208115Z",
     "start_time": "2025-02-27T09:32:25.202024Z"
    }
   },
   "cell_type": "code",
   "source": [
    "def create_stock(symbol: str, stock_price: float, r: float, order_fees: float, balance: list, opening_balance: float, share: float):\n",
    "    \"\"\"\n",
    "    Creates a new Stock object with the given parameters.\n",
    "\n",
    "    Args:\n",
    "    - symbol (str): The stock's ticker symbol.\n",
    "    - stock_price (float): Assumed average stock price.\n",
    "    - r (float): Return rate of the stock (e.g., dividend yield).\n",
    "    - g (float): Order fees for the stock.\n",
    "    - balance (list): A list to hold projected balances per period.\n",
    "    - opening_balance (float): Initial quantity of the stock.\n",
    "    - share (float): Proportional share in the portfolio.\n",
    "\n",
    "    Returns:\n",
    "    - Stock: A new Stock object initialized with the provided parameters.\n",
    "    \"\"\"\n",
    "    # Create a new Stock object using the Stock class constructor.\n",
    "    new_stock = Stock(symbol, stock_price, r, order_fees, balance, opening_balance, share)\n",
    "\n",
    "    # Return the newly created Stock object.\n",
    "    return new_stock"
   ],
   "id": "687b64f12107c368",
   "outputs": [],
   "execution_count": 6
  },
  {
   "metadata": {
    "ExecuteTime": {
     "end_time": "2025-02-27T09:32:25.219291Z",
     "start_time": "2025-02-27T09:32:25.209125Z"
    }
   },
   "cell_type": "code",
   "source": [
    "\"\"\"\n",
    "This loop creates a Stock object for each stock in the dataset and populates a list of Stock objects.\n",
    "\n",
    "Steps:\n",
    "1. Initialize an empty balance list for each stock for the defined time horizon.\n",
    "2. Calculate the balance time series for each stock using the `calculate_balance` function.\n",
    "3. Create a Stock object using the calculated data.\n",
    "4. Append the created Stock object to the `stock_list`.\n",
    "5. Print intermediate results to verify the process.\n",
    "\n",
    "Key Variables:\n",
    "- stock_list: A list to hold all created Stock objects.\n",
    "- stock_data_df: A DataFrame containing stock data, such as symbol, stock price, return rate, etc.\n",
    "- years: The time horizon for investment.\n",
    "\"\"\"\n",
    "\n",
    "# Verify the initial length of the stock list.\n",
    "print(len(stock_list))\n",
    "\n",
    "# Iterate over all rows in the stock data DataFrame to create Stock objects.\n",
    "for i in range(len(stock_data_df.axes[0])):\n",
    "    # Create an empty balance list initialized with the horizon length.\n",
    "    empty_balance = [None] * years  # Placeholder for balance values across the time horizon.\n",
    "    empty_balance[0] = int(stock_data_df.at[i, 'opening_balance'])  # Set the opening balance for t=0.\n",
    "    \n",
    "    # Calculate the balance time series for the stock.\n",
    "    calculated_balance = calculate_balance(\n",
    "        horizon=years,\n",
    "        stock_price=stock_data_df.at[i, 'stock_price'],\n",
    "        r=stock_data_df.at[i, 'r'],\n",
    "        order_fees=7,  # Fixed order fee.\n",
    "        share=stock_data_df.at[i, 'share'],\n",
    "        empty_balance=empty_balance\n",
    "    )\n",
    "    \n",
    "    # Print the calculated balance for debugging/verification.\n",
    "    print(calculated_balance)\n",
    "    \n",
    "    # Create a new Stock object using the calculated data.\n",
    "    stock = create_stock(\n",
    "        symbol=stock_data_df.at[i, 'symbol'],\n",
    "        stock_price=stock_data_df.at[i, 'stock_price'],\n",
    "        r=stock_data_df.at[i, 'r'],\n",
    "        order_fees=7,\n",
    "        balance=calculated_balance,\n",
    "        opening_balance=stock_data_df.at[i, 'opening_balance'],\n",
    "        share=stock_data_df.at[i, 'share']\n",
    "    )\n",
    "    \n",
    "    # Append the created Stock object to the stock list.\n",
    "    stock_list.append(stock)\n",
    "    \n",
    "    # Print the current length of the stock list for verification.\n",
    "    print(f\"Stock list length: {len(stock_list)}\")"
   ],
   "id": "64542606ac0b8707",
   "outputs": [
    {
     "name": "stdout",
     "output_type": "stream",
     "text": [
      "0\n",
      "[135, 138, 142, 147, 153, 160, 169, 179, 190, 202]\n",
      "Stock list length: 1\n",
      "[40, 43, 48, 55, 64, 76, 90, 107, 127, 149]\n",
      "Stock list length: 2\n",
      "[9, 9, 9, 9, 9, 9, 9, 9, 9, 9]\n",
      "Stock list length: 3\n",
      "[11, 11, 11, 11, 12, 13, 14, 16, 18, 20]\n",
      "Stock list length: 4\n"
     ]
    }
   ],
   "execution_count": 7
  },
  {
   "metadata": {
    "ExecuteTime": {
     "end_time": "2025-02-27T09:10:14.915510Z",
     "start_time": "2025-02-27T09:10:14.786893Z"
    }
   },
   "cell_type": "code",
   "source": [
    "\"\"\"\n",
    "This code snippet visualizes the balance time series for all stocks in the `stock_list` over a given horizon.\n",
    "\n",
    "Steps:\n",
    "1. Iterate over all Stock objects in the `stock_list`.\n",
    "2. Plot the balance time series for each stock using matplotlib.\n",
    "3. Customize the legend, title, axis labels, and grid for better readability.\n",
    "\"\"\"\n",
    "\n",
    "import matplotlib.pyplot as plt\n",
    "\n",
    "# Iterate over all stocks in the stock list and plot their balance time series.\n",
    "for stock in stock_list:\n",
    "    plt.plot(\n",
    "        range(years),  # X-axis: Time horizon (in years).\n",
    "        stock.balance,  # Y-axis: Stock balance time series.\n",
    "        \"-p\",  # Line style with points at each data value.\n",
    "        label=f\"symbol: {stock.symbol}, r={stock.r}, l=dynamic, Price: {stock.stock_price}, A(0): {stock.opening_balance}\"\n",
    "    )\n",
    "\n",
    "# Add a legend with the best location based on available space.\n",
    "plt.legend(loc='best')\n",
    "\n",
    "# Add a title to the plot, specifying the investment horizon.\n",
    "plt.title(f'Horizon: {years} years')\n",
    "\n",
    "# Add labels to the x and y axes.\n",
    "plt.xlabel('Years')\n",
    "plt.ylabel('Shares')\n",
    "\n",
    "# Add a grid for better visualization of the data.\n",
    "plt.grid(color='grey', linestyle='-', linewidth=0.1)\n",
    "\n",
    "# Display the plot.\n",
    "plt.show()\n"
   ],
   "id": "a51dfd49e281364d",
   "outputs": [
    {
     "data": {
      "text/plain": [
       "<Figure size 640x480 with 1 Axes>"
      ],
      "image/png": "[encoded data removed]"
     },
     "metadata": {},
     "output_type": "display_data"
    }
   ],
   "execution_count": 30
  },
  {
   "metadata": {
    "ExecuteTime": {
     "end_time": "2024-09-20T14:17:20.920371Z",
     "start_time": "2024-09-20T14:17:20.917367Z"
    }
   },
   "cell_type": "code",
   "source": "",
   "id": "e2b478ef5f1e34ad",
   "outputs": [],
   "execution_count": 22
  },
  {
   "metadata": {},
   "cell_type": "code",
   "outputs": [],
   "execution_count": null,
   "source": "",
   "id": "da980edd0ccdaa1d"
  }
 ],
 "metadata": {
  "kernelspec": {
   "display_name": "Python 3",
   "language": "python",
   "name": "python3"
  },
  "language_info": {
   "codemirror_mode": {
    "name": "ipython",
    "version": 2
   },
   "file_extension": ".py",
   "mimetype": "text/x-python",
   "name": "python",
   "nbconvert_exporter": "python",
   "pygments_lexer": "ipython2",
   "version": "2.7.6"
  }
 },
 "nbformat": 4,
 "nbformat_minor": 5
}
